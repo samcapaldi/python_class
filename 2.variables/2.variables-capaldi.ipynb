{
 "cells": [
  {
   "cell_type": "markdown",
   "metadata": {
    "slideshow": {
     "slide_type": "slide"
    }
   },
   "source": [
    "## Lesson Objectives\n",
    "*After this lesson, you will be able to...*\n",
    "\n",
    "* Create and re-assign numerical and string variables.\n",
    "* Use numerical operators.\n",
    "* Print complex variable structures."
   ]
  },
  {
   "cell_type": "markdown",
   "metadata": {
    "slideshow": {
     "slide_type": "slide"
    }
   },
   "source": [
    "## What's a Variable?\n",
    "\n",
    "Go into two-person breakout rooms, and together come up with as many definitions for the word \"variable\" as you can.\n",
    "\n",
    "- Consider contexts such as mathematics, the sciences, weather, etc.\n",
    "- No cheating! Phones off and laptops closed."
   ]
  },
  {
   "cell_type": "markdown",
   "metadata": {
    "slideshow": {
     "slide_type": "slide"
    }
   },
   "source": [
    "## Variable\n",
    "\n",
    "\n",
    "Variables:\n",
    "\n",
    "- Are boxes that can hold all kinds of information for you.\n",
    "- Make it easier to store and re-use values.\n",
    "- Are the most basic piece of code.\n",
    "\n",
    "To use a variable, we simply announce that we want to use it (we **declare** it)."
   ]
  },
  {
   "cell_type": "code",
   "execution_count": null,
   "metadata": {
    "slideshow": {
     "slide_type": "fragment"
    }
   },
   "outputs": [],
   "source": [
    "# I've eaten 3 cupcakes\n",
    "\n",
    "cupcakes_ive_eaten = 3\n",
    "print(cupcakes_ive_eaten)\n",
    "# Check the datatype\n",
    "type(cupcakes_ive_eaten)\n",
    "# You can change the datatype\n",
    "cupcakes_ive_eaten = str(cupcakes_ive_eaten)\n",
    "type(cupcakes_ive_eaten)"
   ]
  },
  {
   "cell_type": "markdown",
   "metadata": {
    "slideshow": {
     "slide_type": "slide"
    }
   },
   "source": [
    "## Side note: Comments\n",
    "\n",
    "- Code is how you talk to your computer\n",
    "- Comments are how you talk to other programmers"
   ]
  },
  {
   "cell_type": "markdown",
   "metadata": {
    "slideshow": {
     "slide_type": "slide"
    }
   },
   "source": [
    "## Naming Conventions: Mistakes and Syntax\n",
    "\n",
    "Some common naming mistakes:\n",
    "\n",
    "- Not using meaningful names. `delicious = 3` doesn't mean anything - `cupcakes_ive_eaten = 3` does!\n",
    "- Case sensitivity (`CUPCAKES_IVE_EATEN` and `cupcakes_ive_eaten` are not the same!)\n",
    "- No spaces or punctuation (\"cupcakes i've eaten\" isn't allowed)\n",
    "  - This is invalid **syntax**\n",
    "  - Use snake_case: `lowercase_letters_with_underscores` (it's in the official [Python style guide](https://www.python.org/dev/peps/pep-0008/#descriptive-naming-styles))"
   ]
  },
  {
   "cell_type": "markdown",
   "metadata": {
    "slideshow": {
     "slide_type": "slide"
    }
   },
   "source": [
    "## Variable Reassignment\n",
    "**What do you think will happen?**"
   ]
  },
  {
   "cell_type": "code",
   "execution_count": null,
   "metadata": {
    "scrolled": true,
    "slideshow": {
     "slide_type": "fragment"
    }
   },
   "outputs": [],
   "source": [
    "cupcakes_ive_eaten = 3\n",
    "cupcakes_ive_eaten = 4\n",
    "print(cupcakes_ive_eaten)"
   ]
  },
  {
   "cell_type": "markdown",
   "metadata": {
    "slideshow": {
     "slide_type": "slide"
    }
   },
   "source": [
    "## Quick Review\n",
    "\n",
    "- A variable is a box that holds a value.\n",
    "\n",
    "- It can be declared, called, and changed within your program.\n",
    "\n",
    "- When declaring variables, syntax and naming conventions matter!\n",
    "\n",
    "- Variables can be reassigned as often as you like, but only the most recent declaration counts.\n",
    "\n",
    "**UP NEXT:** Math!"
   ]
  },
  {
   "cell_type": "markdown",
   "metadata": {
    "slideshow": {
     "slide_type": "slide"
    }
   },
   "source": [
    "## Mathematical Operators\n",
    "\n",
    "Math works on numerical variables, too!\n",
    "\n",
    "- The `+`, `-`, `*` (multiply), and `/` (divide) operators work just like they do with regular math.\n"
   ]
  },
  {
   "cell_type": "code",
   "execution_count": null,
   "metadata": {
    "slideshow": {
     "slide_type": "slide"
    }
   },
   "outputs": [],
   "source": [
    "cupcakes_ive_eaten = 6 + 3\n",
    "cupcakes_ive_eaten = '6' + '3'\n",
    "print(cupcakes_ive_eaten)"
   ]
  },
  {
   "cell_type": "code",
   "execution_count": null,
   "metadata": {
    "slideshow": {
     "slide_type": "fragment"
    }
   },
   "outputs": [],
   "source": [
    "cupcakes_ive_eaten = 6 - 3\n",
    "print(cupcakes_ive_eaten)"
   ]
  },
  {
   "cell_type": "code",
   "execution_count": null,
   "metadata": {
    "slideshow": {
     "slide_type": "fragment"
    }
   },
   "outputs": [],
   "source": [
    "cupcakes_ive_eaten = 6 * 3\n",
    "cupcakes_ive_eaten = '6' * 3\n",
    "print(cupcakes_ive_eaten)"
   ]
  },
  {
   "cell_type": "code",
   "execution_count": null,
   "metadata": {
    "slideshow": {
     "slide_type": "fragment"
    }
   },
   "outputs": [],
   "source": [
    "cupcakes_ive_eaten = 6 / 3\n",
    "print(cupcakes_ive_eaten)"
   ]
  },
  {
   "cell_type": "markdown",
   "metadata": {
    "slideshow": {
     "slide_type": "slide"
    }
   },
   "source": [
    "## Even More Mathematical Operators\n",
    "\n",
    "Beyond the `+`, `-`, `*` (multiply), and `/` (divide) operators, we have modulus and exponents."
   ]
  },
  {
   "cell_type": "code",
   "execution_count": null,
   "metadata": {
    "slideshow": {
     "slide_type": "fragment"
    }
   },
   "outputs": [],
   "source": [
    "making_exponents = 10 ** 2\n",
    "print(making_exponents)"
   ]
  },
  {
   "cell_type": "code",
   "execution_count": null,
   "metadata": {
    "slideshow": {
     "slide_type": "fragment"
    }
   },
   "outputs": [],
   "source": [
    "more_exponents = 10 ** 3\n",
    "print(more_exponents)"
   ]
  },
  {
   "cell_type": "code",
   "execution_count": null,
   "metadata": {
    "slideshow": {
     "slide_type": "slide"
    }
   },
   "outputs": [],
   "source": [
    "making_modulus = 10 % 3\n",
    "print(making_modulus)  "
   ]
  },
  {
   "cell_type": "code",
   "execution_count": null,
   "metadata": {
    "slideshow": {
     "slide_type": "fragment"
    }
   },
   "outputs": [],
   "source": [
    "more_modulus = 6 % 2\n",
    "print(more_modulus)"
   ]
  },
  {
   "cell_type": "markdown",
   "metadata": {
    "slideshow": {
     "slide_type": "slide"
    }
   },
   "source": [
    "## Math On The Same Variable\n",
    "\n",
    "\n",
    "You can reassign a variable *using that very same variable* - or other variables!"
   ]
  },
  {
   "cell_type": "code",
   "execution_count": null,
   "metadata": {
    "slideshow": {
     "slide_type": "fragment"
    }
   },
   "outputs": [],
   "source": [
    "cupcakes_ive_eaten = 3\n",
    "cupcakes_ive_eaten = cupcakes_ive_eaten + 1\n",
    "print(cupcakes_ive_eaten)"
   ]
  },
  {
   "cell_type": "code",
   "execution_count": null,
   "metadata": {
    "slideshow": {
     "slide_type": "slide"
    }
   },
   "outputs": [],
   "source": [
    "cupcakes_left_in_box = 6\n",
    "cupcakes_left_in_box = cupcakes_left_in_box - 1 \n",
    "print(cupcakes_ive_eaten)"
   ]
  },
  {
   "cell_type": "code",
   "execution_count": null,
   "metadata": {
    "slideshow": {
     "slide_type": "fragment"
    }
   },
   "outputs": [],
   "source": [
    "cupcakes_left_in_box = cupcakes_left_in_box - cupcakes_ive_eaten \n",
    "print(cupcakes_ive_eaten)"
   ]
  },
  {
   "cell_type": "markdown",
   "metadata": {
    "slideshow": {
     "slide_type": "slide"
    }
   },
   "source": [
    "## Partner Exercise: Mathematical Operators\n",
    "\n",
    "Pair up and choose roles:\n",
    "\n",
    "- Driver\n",
    "- Navigator\n",
    "\n",
    "Try to code the below:"
   ]
  },
  {
   "cell_type": "code",
   "execution_count": null,
   "metadata": {},
   "outputs": [],
   "source": [
    "# Make a variable to hold the number of guitars you own (3).\n",
    "my_guitars = 3\n",
    "\n",
    "# Make a variable to hold the number of guitars Nikhil owns (1). \n",
    "nikhils_guitars = 1"
   ]
  },
  {
   "cell_type": "code",
   "execution_count": null,
   "metadata": {
    "slideshow": {
     "slide_type": "fragment"
    }
   },
   "outputs": [],
   "source": [
    "# You give 2 of your guitars to Nikhil, so subtract 2 from you and add 2 to Nikhil.\n",
    "my_guitars = my_guitars - 2\n",
    "nikhils_guitars += 2\n",
    "print(nikhils_guitars)"
   ]
  },
  {
   "cell_type": "code",
   "execution_count": null,
   "metadata": {
    "slideshow": {
     "slide_type": "fragment"
    }
   },
   "outputs": [],
   "source": [
    "print(my_guitars)\n",
    "print(nikhils_guitars)"
   ]
  },
  {
   "cell_type": "markdown",
   "metadata": {
    "slideshow": {
     "slide_type": "slide"
    }
   },
   "source": [
    "This is okay:\n",
    "\n",
    "```python\n",
    "my_num = 9\n",
    "my_num = my_num + 7\n",
    "# my_num is now 16\n",
    "```\n",
    "\n",
    "But this is better:\n",
    "\n",
    "```python\n",
    "my_num = 9\n",
    "my_num += 7  # += is short for var = var + 7\n",
    "# my_num is now 16\n",
    "```"
   ]
  },
  {
   "cell_type": "markdown",
   "metadata": {
    "slideshow": {
     "slide_type": "slide"
    }
   },
   "source": [
    "## Partner Exercise: Numerical Reassignment\n",
    "\n",
    "Get with the same partner, but switch driver and navigator roles.\n",
    "\n",
    "In the environment below, follow the prompts:"
   ]
  },
  {
   "cell_type": "code",
   "execution_count": null,
   "metadata": {
    "slideshow": {
     "slide_type": "fragment"
    }
   },
   "outputs": [],
   "source": [
    "# Declare two variables `num1` and `num2` and assign them to any numbers you'd like.\n",
    "num1 = 1\n",
    "num2 = 3\n",
    "\n",
    "# Set `num1` to the result of subtracting `num1` from the `num2`.\n",
    "num1 -= num2\n",
    "\n",
    "# Tell if `num2` is even or odd.\n",
    "if num2 %2 == 0:\n",
    "    print('blah')\n",
    "# elif\n",
    "else:\n",
    "    print(num2, \"is odd\")\n",
    "\n",
    "print(\"this is printed no matter what\")"
   ]
  },
  {
   "cell_type": "markdown",
   "metadata": {
    "slideshow": {
     "slide_type": "subslide"
    }
   },
   "source": [
    "```\n",
    "if <conditional>:\n",
    "    action here\n",
    "    \n",
    "elif <conditional>:\n",
    "    \n",
    "else:\n",
    "```"
   ]
  },
  {
   "cell_type": "markdown",
   "metadata": {
    "slideshow": {
     "slide_type": "slide"
    }
   },
   "source": [
    "## Important Aside: Even or Odd?\n",
    "\n",
    "Is 6 even or odd?\n",
    "\n",
    "Is 7 even or odd?\n",
    "\n",
    "How do you think a computer knows?"
   ]
  },
  {
   "cell_type": "markdown",
   "metadata": {
    "slideshow": {
     "slide_type": "fragment"
    }
   },
   "source": [
    "Modulus operator shows the remainder of a division problem.\n",
    "\n",
    "Modding by 2 only gives a `0` or a `1`.\n",
    "\n",
    "- **4 % 2**:\n",
    "  - `4 % 2 = 0`. Even!\n",
    "- **5 % 2**:\n",
    "  - `5 % 2 = 1`. Odd!"
   ]
  },
  {
   "cell_type": "markdown",
   "metadata": {
    "slideshow": {
     "slide_type": "slide"
    }
   },
   "source": [
    "## Quick Review\n",
    "\n",
    "- A variable is a value that can be defined, declared, called and changed within your program.\n",
    "    - `my_number = 5`\n",
    "- Naming:\n",
    "    - Variable names are case sensitive.\n",
    "    - Use `snake_case`!\n"
   ]
  },
  {
   "cell_type": "markdown",
   "metadata": {
    "slideshow": {
     "slide_type": "slide"
    }
   },
   "source": [
    "- Variables can be reassigned as often as you like, but only the most recent declaration counts.\n",
    "- Python can do math using operators, such as `+`, `-`, `*`, and `/`\n",
    "    - You can shorthand the math assignments: `my_num += 7`"
   ]
  },
  {
   "cell_type": "markdown",
   "metadata": {
    "slideshow": {
     "slide_type": "slide"
    }
   },
   "source": [
    "## Taking a Breather\n",
    "\n",
    "That was a lot of math!\n",
    "\n",
    "When it comes down to it, computers operate with a simple, straightforward logic.\n",
    "\n",
    "Let's switch gears. Up next: Strings!"
   ]
  },
  {
   "cell_type": "markdown",
   "metadata": {
    "slideshow": {
     "slide_type": "slide"
    }
   },
   "source": [
    "## Introducing Strings"
   ]
  },
  {
   "cell_type": "markdown",
   "metadata": {
    "slideshow": {
     "slide_type": "slide"
    }
   },
   "source": [
    "A *character* is:\n",
    "\n",
    "- Anything on your keyboard , such as a letter or a number.\n",
    "- \"Apple\" is five characters: a, p, p, l, e.\n",
    "- Spaces count! (they're on the keyboard!)"
   ]
  },
  {
   "cell_type": "markdown",
   "metadata": {
    "slideshow": {
     "slide_type": "slide"
    }
   },
   "source": [
    "A *string* is:\n",
    "\n",
    "- A complete list of characters.\n",
    "- \"Apple\"\n",
    "- \"Chocolate Cupcake\"\n",
    "- This entire sentence: \"Hello, you are 1 of a kind!\""
   ]
  },
  {
   "cell_type": "markdown",
   "metadata": {
    "slideshow": {
     "slide_type": "slide"
    }
   },
   "source": [
    "## How Do I Create Strings in Python?\n",
    "\n",
    "\n",
    "You tell Python that your variable will hold a string using quotation marks."
   ]
  },
  {
   "cell_type": "code",
   "execution_count": null,
   "metadata": {
    "slideshow": {
     "slide_type": "fragment"
    }
   },
   "outputs": [],
   "source": [
    "cupcakes_ive_eaten = 5"
   ]
  },
  {
   "cell_type": "code",
   "execution_count": null,
   "metadata": {
    "slideshow": {
     "slide_type": "fragment"
    }
   },
   "outputs": [],
   "source": [
    "type(cupcakes_ive_eaten)"
   ]
  },
  {
   "cell_type": "code",
   "execution_count": null,
   "metadata": {
    "slideshow": {
     "slide_type": "fragment"
    }
   },
   "outputs": [],
   "source": [
    "cupcakes_ive_eaten = \"5\""
   ]
  },
  {
   "cell_type": "code",
   "execution_count": null,
   "metadata": {
    "slideshow": {
     "slide_type": "fragment"
    }
   },
   "outputs": [],
   "source": [
    "type(cupcakes_ive_eaten)"
   ]
  },
  {
   "cell_type": "code",
   "execution_count": null,
   "metadata": {
    "scrolled": true,
    "slideshow": {
     "slide_type": "subslide"
    }
   },
   "outputs": [],
   "source": [
    "cupcakes_ive_eaten + 1"
   ]
  },
  {
   "cell_type": "code",
   "execution_count": null,
   "metadata": {
    "scrolled": false,
    "slideshow": {
     "slide_type": "fragment"
    }
   },
   "outputs": [],
   "source": [
    "cupcakes_ive_eaten = cupcakes_ive_eaten + \" I've eaten\"\n",
    "cupcakes_ive_eaten"
   ]
  },
  {
   "cell_type": "code",
   "execution_count": null,
   "metadata": {},
   "outputs": [],
   "source": [
    "# Slicing\n",
    "cupcakes_ive_eaten[:-2]"
   ]
  },
  {
   "cell_type": "code",
   "execution_count": null,
   "metadata": {},
   "outputs": [],
   "source": [
    "cupcakes_ive_eaten.swapcase()"
   ]
  },
  {
   "cell_type": "code",
   "execution_count": null,
   "metadata": {
    "slideshow": {
     "slide_type": "fragment"
    }
   },
   "outputs": [],
   "source": [
    "cupcakes_ive_eaten"
   ]
  },
  {
   "cell_type": "code",
   "execution_count": null,
   "metadata": {
    "scrolled": true,
    "slideshow": {
     "slide_type": "subslide"
    }
   },
   "outputs": [],
   "source": [
    "print(\"I've eaten {cupcakes_ive_eaten} cupcakes\")"
   ]
  },
  {
   "cell_type": "code",
   "execution_count": null,
   "metadata": {
    "scrolled": false,
    "slideshow": {
     "slide_type": "fragment"
    }
   },
   "outputs": [],
   "source": [
    "# Old way of doing f strings\n",
    "print(\"I've eaten {} cupcakes\".format(cupcakes_ive_eaten))"
   ]
  },
  {
   "cell_type": "code",
   "execution_count": null,
   "metadata": {
    "scrolled": true,
    "slideshow": {
     "slide_type": "fragment"
    }
   },
   "outputs": [],
   "source": [
    "# Better way of doing f strings\n",
    "print(f\"I've eaten {cupcakes_ive_eaten} cupcakes\")"
   ]
  },
  {
   "cell_type": "code",
   "execution_count": null,
   "metadata": {},
   "outputs": [],
   "source": [
    "dates = ['monday', 'tuesday']"
   ]
  },
  {
   "cell_type": "code",
   "execution_count": null,
   "metadata": {},
   "outputs": [],
   "source": [
    "for day in dates:\n",
    "    print(f'today is {day}')"
   ]
  },
  {
   "cell_type": "code",
   "execution_count": null,
   "metadata": {},
   "outputs": [],
   "source": [
    "from datetime import datetime"
   ]
  },
  {
   "cell_type": "code",
   "execution_count": null,
   "metadata": {},
   "outputs": [],
   "source": [
    "todays_date = datetime.today()"
   ]
  },
  {
   "cell_type": "markdown",
   "metadata": {
    "slideshow": {
     "slide_type": "slide"
    }
   },
   "source": [
    "## We Do: Declaring Strings\n",
    "\n",
    "1. We'll declare a variable called `name` and assign it the value `Marty`\n",
    "2. We'll declare a variable called `car` and assign it the value `Delorean`\n",
    "3. We'll declare a variable called `speed` and assign it the *string* value `\"88\"`\n",
    "4. We'll print out these variables\n",
    "5. We'll add `4` to `speed`- what happens?"
   ]
  },
  {
   "cell_type": "markdown",
   "metadata": {
    "slideshow": {
     "slide_type": "slide"
    }
   },
   "source": [
    "## We Do: Declaring Strings"
   ]
  },
  {
   "cell_type": "code",
   "execution_count": null,
   "metadata": {
    "slideshow": {
     "slide_type": "fragment"
    }
   },
   "outputs": [],
   "source": [
    "# Declare some strings\n"
   ]
  },
  {
   "cell_type": "markdown",
   "metadata": {
    "slideshow": {
     "slide_type": "slide"
    }
   },
   "source": [
    "## String Concatenation\n",
    "\n",
    "`+` on:\n",
    "\n",
    "- Numerical variables adds (`5 + 5 = 10`).\n",
    "- String variables *concatenate* (`\"Doc\" + \"Brown\" = \"DocBrown\"`).\n",
    "  - *Pssst: Pronunciation tip: con-CAT-en-ATE*\n",
    "- Numerical strings concatenate to new strings! (`\"5\"` + `\"4\"` = `\"54\"`)"
   ]
  },
  {
   "cell_type": "code",
   "execution_count": null,
   "metadata": {
    "slideshow": {
     "slide_type": "slide"
    }
   },
   "outputs": [],
   "source": [
    "first_name = \"Doc\"\n",
    "last_name = \"Brown\"\n",
    "full_name = first_name + last_name\n",
    "print(full_name)"
   ]
  },
  {
   "cell_type": "markdown",
   "metadata": {
    "slideshow": {
     "slide_type": "slide"
    }
   },
   "source": [
    "## We Do: Spaces in Concatenation\n",
    "\n",
    "It's another \"We Do.\" Let's do this together -  follow along!\n",
    "\n",
    "To begin: `sentence = name + \"is driving his\" + car + speed`\n",
    "\n",
    "We expect the sentence to be `Marty is driving his Delorean 88mph`. Is that what we got?"
   ]
  },
  {
   "cell_type": "code",
   "execution_count": null,
   "metadata": {
    "slideshow": {
     "slide_type": "fragment"
    }
   },
   "outputs": [],
   "source": [
    "name = \"Marty\"\n",
    "car = \"Delorean\"\n",
    "speed = \"88mph\""
   ]
  },
  {
   "cell_type": "markdown",
   "metadata": {
    "slideshow": {
     "slide_type": "slide"
    }
   },
   "source": [
    "## Strings and Printing: Review\n",
    "\n",
    "Strings are made with quotes:"
   ]
  },
  {
   "cell_type": "code",
   "execution_count": null,
   "metadata": {
    "slideshow": {
     "slide_type": "fragment"
    }
   },
   "outputs": [],
   "source": [
    "name = \"Marty\"\n",
    "car = \"Delorean\"\n",
    "speed = \"88\""
   ]
  },
  {
   "cell_type": "markdown",
   "metadata": {
    "slideshow": {
     "slide_type": "slide"
    }
   },
   "source": [
    "String Concatenation - we need to add the spaces!"
   ]
  },
  {
   "cell_type": "code",
   "execution_count": null,
   "metadata": {
    "slideshow": {
     "slide_type": "fragment"
    }
   },
   "outputs": [],
   "source": [
    "sentence = name + \" is driving his \" + car + \" \" + speed\n",
    "string_numbers = \"88\" + \"51\"\n",
    "# string_numbers = 8851"
   ]
  },
  {
   "cell_type": "markdown",
   "metadata": {
    "slideshow": {
     "slide_type": "slide"
    }
   },
   "source": [
    "To easily create spaces while printing:"
   ]
  },
  {
   "cell_type": "code",
   "execution_count": null,
   "metadata": {},
   "outputs": [],
   "source": [
    "print(name, \"is driving his\", car, speed)"
   ]
  },
  {
   "cell_type": "markdown",
   "metadata": {
    "slideshow": {
     "slide_type": "slide"
    }
   },
   "source": [
    "## Discussion: Some Common Mistakes: 1\n",
    "\n",
    "\n",
    "Do you think this will run? If yes, what does it print?\n",
    "\n",
    "```python\n",
    "my_num\n",
    "print(my_num)\n",
    "```"
   ]
  },
  {
   "cell_type": "code",
   "execution_count": null,
   "metadata": {
    "scrolled": true,
    "slideshow": {
     "slide_type": "fragment"
    }
   },
   "outputs": [],
   "source": [
    "my_num\n",
    "print(my_num)"
   ]
  },
  {
   "cell_type": "markdown",
   "metadata": {
    "slideshow": {
     "slide_type": "slide"
    }
   },
   "source": [
    "## Discussion: Some Common Mistakes: 2\n",
    "\n",
    "How about this? Does it run? If so, what does it print?\n",
    "\n",
    "```python\n",
    "my_num = 5\n",
    "print()\n",
    "```"
   ]
  },
  {
   "cell_type": "code",
   "execution_count": null,
   "metadata": {
    "slideshow": {
     "slide_type": "fragment"
    }
   },
   "outputs": [],
   "source": [
    "my_num = 5\n",
    "print()"
   ]
  },
  {
   "cell_type": "markdown",
   "metadata": {
    "slideshow": {
     "slide_type": "slide"
    }
   },
   "source": [
    "## Discussion: Some Common Mistakes: 3\n",
    "\n",
    "How about this? Does it run? If so, what does it print?\n",
    "\n",
    "```python\n",
    "my_num = 5\n",
    "my_string = \"Hello\"\n",
    "print(my_num + my_string)\n",
    "```"
   ]
  },
  {
   "cell_type": "code",
   "execution_count": null,
   "metadata": {
    "slideshow": {
     "slide_type": "fragment"
    }
   },
   "outputs": [],
   "source": [
    "my_num = 5\n",
    "my_string = \"Hello\"\n",
    "print(my_num + my_string)"
   ]
  },
  {
   "cell_type": "markdown",
   "metadata": {
    "slideshow": {
     "slide_type": "slide"
    }
   },
   "source": [
    "## Discussion: Some Common Mistakes: 4\n",
    "\n",
    "One last question. What does this do?\n",
    "\n",
    "```python\n",
    "my_num1 = \"10\"\n",
    "my_num2 = \"20\"\n",
    "print(my_num1 + my_num2)\n",
    "```"
   ]
  },
  {
   "cell_type": "code",
   "execution_count": null,
   "metadata": {
    "slideshow": {
     "slide_type": "fragment"
    }
   },
   "outputs": [],
   "source": [
    "my_num1 = \"10\"\n",
    "my_num2 = \"20\"\n",
    "print(my_num1 + my_num2)"
   ]
  },
  {
   "cell_type": "markdown",
   "metadata": {
    "slideshow": {
     "slide_type": "slide"
    }
   },
   "source": [
    "## Q&A and Summary\n",
    "\n",
    "We learned a lot today!\n",
    "\n",
    "- We created, used, and re-assigned number and string variables.\n",
    "- We used the numerical operators `+ - / * // %`\n",
    "- We did some complex stuff with the `print` function!\n",
    "\n",
    "Congrats! You've finished your first programming lesson!"
   ]
  }
 ],
 "metadata": {
  "celltoolbar": "Slideshow",
  "kernelspec": {
   "display_name": "Python 3",
   "language": "python",
   "name": "python3"
  },
  "language_info": {
   "codemirror_mode": {
    "name": "ipython",
    "version": 3
   },
   "file_extension": ".py",
   "mimetype": "text/x-python",
   "name": "python",
   "nbconvert_exporter": "python",
   "pygments_lexer": "ipython3",
   "version": "3.7.3"
  },
  "rise": {
   "autolaunch": true
  }
 },
 "nbformat": 4,
 "nbformat_minor": 2
}
