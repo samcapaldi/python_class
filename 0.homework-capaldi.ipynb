{
 "cells": [
  {
   "cell_type": "markdown",
   "metadata": {},
   "source": [
    "# Homework: Build a Movie App"
   ]
  },
  {
   "cell_type": "markdown",
   "metadata": {},
   "source": [
    "## Week 2\n",
    "Our first goal is just to get the app printing out movie titles and ratings. We'll hard-code in some values for now."
   ]
  },
  {
   "cell_type": "markdown",
   "metadata": {},
   "source": [
    "1. Create a variable `movie_title` and set it to `Back to the Future`."
   ]
  },
  {
   "cell_type": "code",
   "execution_count": null,
   "metadata": {},
   "outputs": [],
   "source": []
  },
  {
   "cell_type": "markdown",
   "metadata": {},
   "source": [
    "2. Create a variable `movie_rating` to hold the rating and set it to `8`."
   ]
  },
  {
   "cell_type": "code",
   "execution_count": null,
   "metadata": {},
   "outputs": [],
   "source": []
  },
  {
   "cell_type": "markdown",
   "metadata": {},
   "source": [
    "3. Make a `print` statement that says, `The rating for <movie_title> is <movie_rating>`. It should call your new variables, so for example, `The rating for Back to the Future is 8`."
   ]
  },
  {
   "cell_type": "code",
   "execution_count": null,
   "metadata": {},
   "outputs": [],
   "source": []
  },
  {
   "cell_type": "markdown",
   "metadata": {},
   "source": [
    "## Week 3\n",
    "Now, let's expand on this with the new things we've learned. At this point, we are going to hard-code in three specific movies (Back to the Future, Blade, Spirited Away) and assume they all have the same rating, `8`. We will create some functions that will accomplish some specific goals.\n",
    "\n",
    "By the end of this, you will have:\n",
    "\n",
    "1. A `list` of movies that includes Back to the Future, Blade, and Spirited Away. Later, we will be using an API to pull a huge list of movies, but for now we will just pretend it only has these three.\n",
    "2. A variable called `movie_rating` with a value of `8`. Later, we will be using an API to pull the ratings to a lot of movies, but for now we are going to hard-code every movie rating to 8.\n",
    "3. A `function` that, when called, will list all available movies. So, at this point, it will be listing the three movies we hard-coded above.\n",
    "4. A `function` that, when called with the name of a movie as its argument, will tell the user whether or not that movie is available (i.e. if that movie is in your list of movies).\n",
    "5. A `function` that, when called with the name of a movie as its argument, will tell the user the rating of that movie (at this point, it will always be 8, but remember that eventually the value for movie_rating will change, so make sure your code reflects that). If the movie is not available (i.e. not in your list), the function will tell the user that the rating is unavailable.\n",
    "6. A `function` that allows you to pass a list as an argument which will print out whether each movie in the list has a \"great\" rating (8 or more), a \"good\" rating (6 or more), a \"bad\" rating (less than 6), or no rating (i.e. the movie is unavailable).\n",
    "7. BONUS: Think of some ways to deal with the fact that users may not correctly capitalize the movie name. If they type in back to the future instead of Back to the Future, what will happen? How can you fix that? Once you think conceptually of the solution, search Google to see if you can find out how to do it in Python.\n",
    "\n",
    "> Something to think about: Imagine someone actually using your final application. For instance, it would be better for your print-out to say something like \"The rating for Blade is 8\" instead of just \"8\". Make sure that the output of your functions looks nice instead of just basically meeting the requirments. Use meaningful comments and variable names."
   ]
  },
  {
   "cell_type": "markdown",
   "metadata": {},
   "source": [
    "1. A `list` of movies that includes Back to the Future, Blade, and Spirited Away. Later, we will be using an API to pull a huge list of movies, but for now we will just pretend it only has these three."
   ]
  },
  {
   "cell_type": "code",
   "execution_count": null,
   "metadata": {},
   "outputs": [],
   "source": []
  },
  {
   "cell_type": "markdown",
   "metadata": {},
   "source": [
    "2. A variable called `movie_rating` with a value of `8`. "
   ]
  },
  {
   "cell_type": "code",
   "execution_count": null,
   "metadata": {},
   "outputs": [],
   "source": []
  },
  {
   "cell_type": "markdown",
   "metadata": {},
   "source": [
    "3. A `function` that, when called, will list all available movies. So, at this point, it will be listing the three movies we hard-coded above."
   ]
  },
  {
   "cell_type": "code",
   "execution_count": null,
   "metadata": {},
   "outputs": [],
   "source": []
  },
  {
   "cell_type": "markdown",
   "metadata": {},
   "source": [
    "4. A `function` that, when called with the name of a movie as its argument, will tell the user whether or not that movie is available (i.e. if that movie is in your list of movies)."
   ]
  },
  {
   "cell_type": "code",
   "execution_count": null,
   "metadata": {},
   "outputs": [],
   "source": []
  },
  {
   "cell_type": "markdown",
   "metadata": {},
   "source": [
    "5. A `function` that, when called with the name of a movie as its argument, will tell the user the rating of that movie (at this point, it will always be 8, but remember that eventually the value for movie_rating will change, so make sure your code reflects that). If the movie is not available (i.e. not in your list), the function will tell the user that the rating is unavailable."
   ]
  },
  {
   "cell_type": "code",
   "execution_count": null,
   "metadata": {},
   "outputs": [],
   "source": []
  },
  {
   "cell_type": "markdown",
   "metadata": {},
   "source": [
    "6. A `function` that allows you to pass a list as an argument which will print out whether each movie in the list has a \"great\" rating (8 or more), a \"good\" rating (6 or more), a \"bad\" rating (less than 6), or no rating (i.e. the movie is unavailable)."
   ]
  },
  {
   "cell_type": "code",
   "execution_count": null,
   "metadata": {},
   "outputs": [],
   "source": []
  },
  {
   "cell_type": "markdown",
   "metadata": {},
   "source": [
    "7. BONUS: Go back to the function you created for #4. Think of some ways to deal with the fact that users may not correctly capitalize the movie name. If they type in back to the future instead of Back to the Future, what will happen? How can you fix that? Once you think conceptually of the solution, search Google to see if you can find out how to do it in Python."
   ]
  },
  {
   "cell_type": "code",
   "execution_count": null,
   "metadata": {},
   "outputs": [],
   "source": []
  }
 ],
 "metadata": {
  "kernelspec": {
   "display_name": "Python 3",
   "language": "python",
   "name": "python3"
  },
  "language_info": {
   "codemirror_mode": {
    "name": "ipython",
    "version": 3
   },
   "file_extension": ".py",
   "mimetype": "text/x-python",
   "name": "python",
   "nbconvert_exporter": "python",
   "pygments_lexer": "ipython3",
   "version": "3.7.3"
  }
 },
 "nbformat": 4,
 "nbformat_minor": 2
}
